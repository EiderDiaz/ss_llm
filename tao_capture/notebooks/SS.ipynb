{
 "cells": [
  {
   "cell_type": "code",
   "execution_count": 1,
   "id": "613748a9",
   "metadata": {},
   "outputs": [
    {
     "name": "stdout",
     "output_type": "stream",
     "text": [
      "Captura guardada exitosamente.\n"
     ]
    }
   ],
   "source": [
    "import pyautogui\n",
    "\n",
    "# Captura toda la pantalla\n",
    "screenshot = pyautogui.screenshot()\n",
    "\n",
    "# Guarda la captura\n",
    "screenshot.save('screenshot.png')\n",
    "\n",
    "print('Captura guardada exitosamente.')\n"
   ]
  },
  {
   "cell_type": "code",
   "execution_count": null,
   "id": "696db52f",
   "metadata": {},
   "outputs": [],
   "source": []
  }
 ],
 "metadata": {
  "kernelspec": {
   "display_name": "tao_capture",
   "language": "python",
   "name": "python3"
  },
  "language_info": {
   "codemirror_mode": {
    "name": "ipython",
    "version": 3
   },
   "file_extension": ".py",
   "mimetype": "text/x-python",
   "name": "python",
   "nbconvert_exporter": "python",
   "pygments_lexer": "ipython3",
   "version": "3.11.13"
  }
 },
 "nbformat": 4,
 "nbformat_minor": 5
}
